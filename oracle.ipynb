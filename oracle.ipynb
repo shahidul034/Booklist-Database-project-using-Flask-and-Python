{
 "cells": [
  {
   "cell_type": "code",
   "execution_count": 34,
   "metadata": {},
   "outputs": [],
   "source": [
    "import cx_Oracle\n",
    "con = cx_Oracle.connect('ss15/p1234@localhost')"
   ]
  },
  {
   "cell_type": "code",
   "execution_count": 35,
   "metadata": {},
   "outputs": [],
   "source": [
    "mycursor = con.cursor()"
   ]
  },
  {
   "cell_type": "code",
   "execution_count": 57,
   "metadata": {},
   "outputs": [],
   "source": [
    "mycursor.execute(\"drop table relation\")\n",
    "mycursor.execute(\"drop table book\")\n",
    "mycursor.execute(\"drop table course\")\n",
    "mycursor.execute(\"drop table dept\")"
   ]
  },
  {
   "cell_type": "code",
   "execution_count": 54,
   "metadata": {},
   "outputs": [
    {
     "name": "stdout",
     "output_type": "stream",
     "text": [
      "ARTIST\n",
      "ALBUM\n",
      "SONG\n",
      "CUSTOMERS\n",
      "STUDENT\n",
      "DEPT_120\n",
      "TEST\n",
      "DEPT2\n",
      "DEMO2\n",
      "COURSE2\n",
      "DEPT3\n",
      "MY_TABLE\n",
      "MY_TABLE2\n",
      "EVENTS\n",
      "OBJECT\n",
      "DEPT\n",
      "COURSE\n",
      "BOOK\n",
      "RELATION\n"
     ]
    }
   ],
   "source": [
    "mycursor.execute(\"select table_name from user_tables\")\n",
    "for x in mycursor:\n",
    "    print(x[0])\n",
    "    # tt=f\"drop table {x[0]}\"\n",
    "    # print(tt)\n",
    "    # break\n",
    "    # try:\n",
    "        # mycursor.execute(tt)\n",
    "    # except:\n",
    "        # pass"
   ]
  },
  {
   "cell_type": "code",
   "execution_count": 33,
   "metadata": {},
   "outputs": [],
   "source": [
    "# mycursor.execute(\"SELECT table_name FROM user_tables\")\n",
    "mycursor.execute(\"select * from dept\")\n",
    "for x in mycursor:\n",
    "    print(x)"
   ]
  },
  {
   "cell_type": "code",
   "execution_count": 19,
   "metadata": {},
   "outputs": [
    {
     "name": "stdout",
     "output_type": "stream",
     "text": [
      "0\n"
     ]
    }
   ],
   "source": [
    "# Check if dept table exists\n",
    "mycursor.execute(\"SELECT COUNT(*) FROM user_tables WHERE table_name = 'DEPT'\")\n",
    "dept_table_exists = mycursor.fetchone()[0]\n",
    "print(dept_table_exists)\n",
    "if not dept_table_exists:\n",
    "    mycursor.execute('''\n",
    "        CREATE TABLE dept (\n",
    "            dept_id INT,\n",
    "            dept_name VARCHAR(20),\n",
    "            faculty VARCHAR(30),\n",
    "            no_of_student INT,\n",
    "            PRIMARY KEY(dept_id)\n",
    "        )\n",
    "    ''')\n",
    "\n",
    "# Check if course table exists\n",
    "mycursor.execute(\"SELECT COUNT(*) FROM user_tables WHERE table_name = 'COURSE'\")\n",
    "course_table_exists = mycursor.fetchone()[0]\n",
    "\n",
    "if not course_table_exists:\n",
    "    mycursor.execute('''\n",
    "        CREATE TABLE course (\n",
    "            course_no VARCHAR(20),\n",
    "            course_name VARCHAR(50),\n",
    "            year_semester INT,\n",
    "            credit DECIMAL(20,4),\n",
    "            dept_id INT,\n",
    "            PRIMARY KEY(course_no),\n",
    "            FOREIGN KEY(dept_id) REFERENCES dept(dept_id)\n",
    "        )\n",
    "    ''')\n",
    "\n",
    "# Check if book table exists\n",
    "mycursor.execute(\"SELECT COUNT(*) FROM user_tables WHERE table_name = 'BOOK'\")\n",
    "book_table_exists = mycursor.fetchone()[0]\n",
    "\n",
    "if not book_table_exists:\n",
    "    mycursor.execute('''\n",
    "        CREATE TABLE book (\n",
    "            book_no INT,\n",
    "            book_name VARCHAR(50),\n",
    "            author VARCHAR(50),\n",
    "            book_edition INT,\n",
    "            course_offering INT,\n",
    "            PRIMARY KEY(book_no)\n",
    "        )\n",
    "    ''')\n",
    "\n",
    "# Check if relation table exists\n",
    "mycursor.execute(\"SELECT COUNT(*) FROM user_tables WHERE table_name = 'RELATION'\")\n",
    "relation_table_exists = mycursor.fetchone()[0]\n",
    "\n",
    "if not relation_table_exists:\n",
    "    mycursor.execute('''\n",
    "        CREATE TABLE relation (\n",
    "            book_no INT,\n",
    "            course_no VARCHAR(20),\n",
    "            PRIMARY KEY(book_no, course_no),\n",
    "            FOREIGN KEY(book_no) REFERENCES book(book_no),\n",
    "            FOREIGN KEY(course_no) REFERENCES course(course_no)\n",
    "        )\n",
    "    ''')\n"
   ]
  },
  {
   "cell_type": "code",
   "execution_count": 20,
   "metadata": {},
   "outputs": [],
   "source": [
    "# execute alter table command\n",
    "mycursor.execute(\"ALTER TABLE dept ADD location CHAR(20)\")\n",
    "# modify column data type\n",
    "mycursor.execute(\"ALTER TABLE dept MODIFY location VARCHAR(23)\")\n",
    "# rename column\n",
    "mycursor.execute(\"ALTER TABLE dept RENAME COLUMN location TO location2\")\n",
    "# drop column\n",
    "mycursor.execute(\"ALTER TABLE dept DROP COLUMN location2\")"
   ]
  },
  {
   "cell_type": "code",
   "execution_count": 21,
   "metadata": {},
   "outputs": [],
   "source": [
    "mycursor.execute(\"INSERT INTO dept (dept_id, dept_name, faculty, no_of_student) VALUES (7, 'CSE', 'EE', 120)\")\n",
    "mycursor.execute(\"INSERT INTO dept (dept_id, dept_name, faculty, no_of_student) VALUES (3, 'EEE', 'EE', 120)\")\n",
    "mycursor.execute(\"INSERT INTO dept (dept_id, dept_name, faculty, no_of_student) VALUES (1, 'CE', 'CE', 120)\")\n",
    "mycursor.execute(\"INSERT INTO dept (dept_id, dept_name, faculty, no_of_student) VALUES (5, 'ME', 'ME', 120)\")\n",
    "mycursor.execute(\"INSERT INTO dept (dept_id, dept_name, faculty, no_of_student) VALUES (2, 'ECE', 'EE', 60)\")"
   ]
  },
  {
   "cell_type": "code",
   "execution_count": 22,
   "metadata": {},
   "outputs": [],
   "source": [
    "mycursor.execute(\"INSERT INTO course (course_no, course_name, year_semester, credit, dept_id) VALUES ('CSE1101', 'discreate math', 11, 3.00, 7)\")\n",
    "mycursor.execute(\"INSERT INTO course (course_no, course_name, year_semester, credit, dept_id) VALUES ('CSE3105', 'database systems', 31, 3.00, 7)\")\n",
    "mycursor.execute(\"INSERT INTO course (course_no, course_name, year_semester, credit, dept_id) VALUES ('EEE1101', 'Basic electrical engineering', 11, 3.00, 3)\")\n",
    "mycursor.execute(\"INSERT INTO course (course_no, course_name, year_semester, credit, dept_id) VALUES ('ME3101', 'solid mechanics', 31, 3.00, 5)\")\n",
    "\n",
    "mycursor.execute(\"INSERT INTO book (book_no, book_name, author, book_edition, course_offering) VALUES (12, 'discreate math', 'rosen', 4, 2)\")\n",
    "mycursor.execute(\"INSERT INTO book (book_no, book_name, author, book_edition, course_offering) VALUES (13, 'database systems', 'korth', 5, 1)\")\n",
    "mycursor.execute(\"INSERT INTO book (book_no, book_name, author, book_edition, course_offering) VALUES (14, 'data_communication', 'willim stallings', 6, 3)\")\n",
    "mycursor.execute(\"INSERT INTO book (book_no, book_name, author, book_edition, course_offering) VALUES (15, 'solid mechanics', 'john abraham', 3, 2)\")\n",
    "mycursor.execute(\"INSERT INTO book (book_no, book_name, author, book_edition, course_offering) VALUES (16, 'electrical engineering', 'boylsted', 8, 4)\")\n",
    "\n",
    "mycursor.execute(\"INSERT INTO relation (book_no, course_no) VALUES (12, 'CSE1101')\")\n",
    "mycursor.execute(\"INSERT INTO relation (book_no, course_no) VALUES (16, 'EEE1101')\")\n",
    "mycursor.execute(\"INSERT INTO relation (book_no, course_no) VALUES (15, 'ME3101')\")\n",
    "mycursor.execute(\"INSERT INTO relation (book_no, course_no) VALUES (13, 'CSE3105')\")"
   ]
  },
  {
   "cell_type": "code",
   "execution_count": 23,
   "metadata": {},
   "outputs": [
    {
     "name": "stdout",
     "output_type": "stream",
     "text": [
      "(7, 'CSE', 'EE', 120)\n",
      "(3, 'EEE', 'EE', 120)\n",
      "(1, 'CE', 'CE', 120)\n",
      "(5, 'ME', 'ME', 120)\n"
     ]
    }
   ],
   "source": [
    "mycursor.execute(\"SELECT * FROM dept WHERE no_of_student=120\")\n",
    "result = mycursor.fetchall()\n",
    "for row in result:\n",
    "  print(row)"
   ]
  },
  {
   "cell_type": "code",
   "execution_count": 24,
   "metadata": {},
   "outputs": [
    {
     "name": "stdout",
     "output_type": "stream",
     "text": [
      "(7, 'CSE', 'EE', 120)\n"
     ]
    }
   ],
   "source": [
    "# execute command\n",
    "mycursor.execute(\"SELECT * FROM dept WHERE dept_id=(SELECT dept_id FROM course WHERE course_name='database systems')\")\n",
    "\n",
    "# fetch result\n",
    "result = mycursor.fetchall()\n",
    "\n",
    "# print result\n",
    "for x in result:\n",
    "  print(x)"
   ]
  },
  {
   "cell_type": "code",
   "execution_count": 25,
   "metadata": {},
   "outputs": [],
   "source": [
    "mycursor.execute(\"UPDATE course SET course_name='Digital Electronics' WHERE course_no='EEE1101'\")"
   ]
  },
  {
   "cell_type": "code",
   "execution_count": 26,
   "metadata": {},
   "outputs": [],
   "source": [
    "mycursor.execute(\"INSERT INTO dept (dept_id, dept_name, faculty, no_of_student) VALUES (12, 'URP', 'CE', 60)\")\n",
    "\n",
    "mycursor.execute(\"DELETE FROM dept WHERE dept_id = 12\")"
   ]
  },
  {
   "cell_type": "code",
   "execution_count": 4,
   "metadata": {},
   "outputs": [],
   "source": [
    "mycursor.close()\n",
    "con.close()"
   ]
  },
  {
   "cell_type": "code",
   "execution_count": null,
   "metadata": {},
   "outputs": [],
   "source": []
  }
 ],
 "metadata": {
  "kernelspec": {
   "display_name": "env",
   "language": "python",
   "name": "python3"
  },
  "language_info": {
   "codemirror_mode": {
    "name": "ipython",
    "version": 3
   },
   "file_extension": ".py",
   "mimetype": "text/x-python",
   "name": "python",
   "nbconvert_exporter": "python",
   "pygments_lexer": "ipython3",
   "version": "3.9.13"
  },
  "orig_nbformat": 4
 },
 "nbformat": 4,
 "nbformat_minor": 2
}
