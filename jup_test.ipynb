{
 "cells": [
  {
   "cell_type": "code",
   "execution_count": 9,
   "metadata": {},
   "outputs": [],
   "source": [
    "import mysql.connector\n",
    "db=mysql.connector.connect(\n",
    "    host=\"127.0.0.1\",\n",
    "    user=\"root\",\n",
    "    password=\"1234\",\n",
    "    auth_plugin='mysql_native_password',\n",
    "    database=\"testdatabase\"\n",
    "\n",
    ")\n",
    "mycursor=db.cursor()\n",
    "mycursor.execute(\"CREATE DATABASE IF NOT EXISTS mydatabase\")\n",
    "mycursor.execute('show tables')\n",
    "for x in mycursor:\n",
    "    print(x)"
   ]
  },
  {
   "cell_type": "code",
   "execution_count": 12,
   "metadata": {},
   "outputs": [],
   "source": [
    "mycursor.execute('''\n",
    "    CREATE TABLE IF NOT EXISTS dept (\n",
    "        dept_id INT,\n",
    "        dept_name VARCHAR(20),\n",
    "        faculty VARCHAR(30),\n",
    "        no_of_student INT,\n",
    "        PRIMARY KEY(dept_id)\n",
    "    )\n",
    "''')\n",
    "\n",
    "mycursor.execute('''\n",
    "    CREATE TABLE IF NOT EXISTS course (\n",
    "        course_no VARCHAR(20),\n",
    "        course_name VARCHAR(50),\n",
    "        year_semester INT,\n",
    "        credit DECIMAL(20,4),\n",
    "        dept_id INT,\n",
    "        PRIMARY KEY(course_no),\n",
    "        FOREIGN KEY(dept_id) REFERENCES dept(dept_id)\n",
    "    )\n",
    "''')\n",
    "\n",
    "mycursor.execute('''\n",
    "    CREATE TABLE IF NOT EXISTS book (\n",
    "        book_no INT,\n",
    "        book_name VARCHAR(50),\n",
    "        author VARCHAR(50),\n",
    "        book_edition INT,\n",
    "        course_offering INT,\n",
    "        PRIMARY KEY(book_no)\n",
    "    )\n",
    "''')\n",
    "\n",
    "mycursor.execute('''\n",
    "    CREATE TABLE IF NOT EXISTS relation (\n",
    "        book_no INT,\n",
    "        course_no VARCHAR(20),\n",
    "        PRIMARY KEY(book_no, course_no),\n",
    "        FOREIGN KEY(book_no) REFERENCES book(book_no),\n",
    "        FOREIGN KEY(course_no) REFERENCES course(course_no)\n",
    "    )\n",
    "''')\n"
   ]
  },
  {
   "cell_type": "code",
   "execution_count": null,
   "metadata": {},
   "outputs": [],
   "source": [
    "# mycursor.execute('drop table dept')"
   ]
  },
  {
   "cell_type": "code",
   "execution_count": 16,
   "metadata": {},
   "outputs": [],
   "source": [
    "# execute alter table command\n",
    "mycursor.execute(\"ALTER TABLE dept ADD location CHAR(20)\")\n",
    "# modify column data type\n",
    "mycursor.execute(\"ALTER TABLE dept MODIFY location VARCHAR(23)\")\n",
    "# rename column\n",
    "mycursor.execute(\"ALTER TABLE dept RENAME COLUMN location TO location2\")\n",
    "# drop column\n",
    "mycursor.execute(\"ALTER TABLE dept DROP COLUMN location2\")"
   ]
  },
  {
   "cell_type": "code",
   "execution_count": null,
   "metadata": {},
   "outputs": [],
   "source": [
    "mycursor.execute(\"INSERT INTO dept (dept_id, dept_name, faculty, no_of_student) VALUES (7, 'CSE', 'EE', 120)\")\n",
    "mycursor.execute(\"INSERT INTO dept (dept_id, dept_name, faculty, no_of_student) VALUES (3, 'EEE', 'EE', 120)\")\n",
    "mycursor.execute(\"INSERT INTO dept (dept_id, dept_name, faculty, no_of_student) VALUES (1, 'CE', 'CE', 120)\")\n",
    "mycursor.execute(\"INSERT INTO dept (dept_id, dept_name, faculty, no_of_student) VALUES (5, 'ME', 'ME', 120)\")\n",
    "mycursor.execute(\"INSERT INTO dept (dept_id, dept_name, faculty, no_of_student) VALUES (2, 'ECE', 'EE', 60)\")\n",
    "\n",
    "\n"
   ]
  },
  {
   "cell_type": "code",
   "execution_count": 20,
   "metadata": {},
   "outputs": [],
   "source": [
    "mycursor.execute(\"INSERT INTO course (course_no, course_name, year_semester, credit, dept_id) VALUES ('CSE1101', 'discreate math', 11, 3.00, 7)\")\n",
    "mycursor.execute(\"INSERT INTO course (course_no, course_name, year_semester, credit, dept_id) VALUES ('CSE3105', 'database systems', 31, 3.00, 7)\")\n",
    "mycursor.execute(\"INSERT INTO course (course_no, course_name, year_semester, credit, dept_id) VALUES ('EEE1101', 'Basic electrical engineering', 11, 3.00, 3)\")\n",
    "mycursor.execute(\"INSERT INTO course (course_no, course_name, year_semester, credit, dept_id) VALUES ('ME3101', 'solid mechanics', 31, 3.00, 5)\")\n",
    "\n",
    "mycursor.execute(\"INSERT INTO book (book_no, book_name, author, book_edition, course_offering) VALUES (12, 'discreate math', 'rosen', 4, 2)\")\n",
    "mycursor.execute(\"INSERT INTO book (book_no, book_name, author, book_edition, course_offering) VALUES (13, 'database systems', 'korth', 5, 1)\")\n",
    "mycursor.execute(\"INSERT INTO book (book_no, book_name, author, book_edition, course_offering) VALUES (14, 'data_communication', 'willim stallings', 6, 3)\")\n",
    "mycursor.execute(\"INSERT INTO book (book_no, book_name, author, book_edition, course_offering) VALUES (15, 'solid mechanics', 'john abraham', 3, 2)\")\n",
    "mycursor.execute(\"INSERT INTO book (book_no, book_name, author, book_edition, course_offering) VALUES (16, 'electrical engineering', 'boylsted', 8, 4)\")\n",
    "\n",
    "mycursor.execute(\"INSERT INTO relation (book_no, course_no) VALUES (12, 'CSE1101')\")\n",
    "mycursor.execute(\"INSERT INTO relation (book_no, course_no) VALUES (16, 'EEE1101')\")\n",
    "mycursor.execute(\"INSERT INTO relation (book_no, course_no) VALUES (15, 'ME3101')\")\n",
    "mycursor.execute(\"INSERT INTO relation (book_no, course_no) VALUES (13, 'CSE3105')\")"
   ]
  },
  {
   "cell_type": "code",
   "execution_count": 21,
   "metadata": {},
   "outputs": [
    {
     "name": "stdout",
     "output_type": "stream",
     "text": [
      "(1, 'CE', 'CE', 120)\n",
      "(3, 'EEE', 'EE', 120)\n",
      "(5, 'ME', 'ME', 120)\n",
      "(7, 'CSE', 'EE', 120)\n"
     ]
    }
   ],
   "source": [
    "mycursor.execute(\"SELECT * FROM dept WHERE no_of_student=120\")\n",
    "result = mycursor.fetchall()\n",
    "for row in result:\n",
    "  print(row)"
   ]
  },
  {
   "cell_type": "code",
   "execution_count": 22,
   "metadata": {},
   "outputs": [
    {
     "name": "stdout",
     "output_type": "stream",
     "text": [
      "(7, 'CSE', 'EE', 120)\n"
     ]
    }
   ],
   "source": [
    "# execute command\n",
    "mycursor.execute(\"SELECT * FROM dept WHERE dept_id=(SELECT dept_id FROM course WHERE course_name='database systems')\")\n",
    "\n",
    "# fetch result\n",
    "result = mycursor.fetchall()\n",
    "\n",
    "# print result\n",
    "for x in result:\n",
    "  print(x)"
   ]
  },
  {
   "cell_type": "code",
   "execution_count": 23,
   "metadata": {},
   "outputs": [],
   "source": [
    "mycursor.execute(\"UPDATE course SET course_name='Digital Electronics' WHERE course_no='EEE1101'\")"
   ]
  },
  {
   "cell_type": "code",
   "execution_count": 24,
   "metadata": {},
   "outputs": [],
   "source": [
    "mycursor.execute(\"INSERT INTO dept (dept_id, dept_name, faculty, no_of_student) VALUES (12, 'URP', 'CE', 60)\")\n",
    "\n",
    "mycursor.execute(\"DELETE FROM dept WHERE dept_id = 12\")"
   ]
  },
  {
   "cell_type": "code",
   "execution_count": 25,
   "metadata": {},
   "outputs": [
    {
     "name": "stdout",
     "output_type": "stream",
     "text": [
      "('ECE',)\n",
      "('EEE',)\n",
      "('ME',)\n"
     ]
    }
   ],
   "source": [
    "mycursor.execute(\"SELECT dept_name FROM dept WHERE dept_name LIKE 'E%' UNION SELECT dept_name FROM dept WHERE dept_name LIKE '%M%'\")\n",
    "\n",
    "# fetch results\n",
    "result = mycursor.fetchall()\n",
    "\n",
    "# print results\n",
    "for x in result:\n",
    "  print(x)"
   ]
  },
  {
   "cell_type": "code",
   "execution_count": 26,
   "metadata": {},
   "outputs": [
    {
     "name": "stdout",
     "output_type": "stream",
     "text": [
      "(5,)\n",
      "(5,)\n",
      "(5,)\n",
      "(Decimal('108.0000'),)\n",
      "(Decimal('540'),)\n",
      "(120,)\n",
      "(60,)\n",
      "('CE', Decimal('120.0000'))\n",
      "('EE', Decimal('100.0000'))\n",
      "('ME', Decimal('120.0000'))\n",
      "('CE', Decimal('120.0000'))\n",
      "('EE', Decimal('100.0000'))\n",
      "('ME', Decimal('120.0000'))\n"
     ]
    }
   ],
   "source": [
    "# execute SQL commands\n",
    "mycursor.execute(\"SELECT COUNT(*) FROM dept\")\n",
    "result = mycursor.fetchone()\n",
    "print(result)\n",
    "\n",
    "mycursor.execute(\"SELECT COUNT(dept_name) AS number_of_dept FROM dept\")\n",
    "result = mycursor.fetchone()\n",
    "print(result)\n",
    "\n",
    "mycursor.execute(\"SELECT COUNT(DISTINCT dept_name) AS number_of_dept FROM dept\")\n",
    "result = mycursor.fetchone()\n",
    "print(result)\n",
    "\n",
    "mycursor.execute(\"SELECT AVG(no_of_student) FROM dept\")\n",
    "result = mycursor.fetchone()\n",
    "print(result)\n",
    "\n",
    "mycursor.execute(\"SELECT SUM(no_of_student) FROM dept\")\n",
    "result = mycursor.fetchone()\n",
    "print(result)\n",
    "\n",
    "mycursor.execute(\"SELECT MAX(no_of_student) FROM dept\")\n",
    "result = mycursor.fetchone()\n",
    "print(result)\n",
    "\n",
    "mycursor.execute(\"SELECT MIN(no_of_student) FROM dept\")\n",
    "result = mycursor.fetchone()\n",
    "print(result)\n",
    "\n",
    "mycursor.execute(\"SELECT faculty, AVG(no_of_student) FROM dept GROUP BY faculty\")\n",
    "result = mycursor.fetchall()\n",
    "for row in result:\n",
    "    print(row)\n",
    "\n",
    "mycursor.execute(\"SELECT faculty, AVG(no_of_student) FROM dept GROUP BY faculty HAVING AVG(no_of_student) > 60\")\n",
    "result = mycursor.fetchall()\n",
    "for row in result:\n",
    "    print(row)"
   ]
  },
  {
   "cell_type": "code",
   "execution_count": 28,
   "metadata": {},
   "outputs": [],
   "source": [
    "mycursor.execute(\"CREATE TABLE test (name VARCHAR(255))\")\n",
    "\n",
    "# insert the data\n",
    "data = [\"EEE\", \"CSE\", \"BME\", \"ECE\", \"MSE\", \"URP\", \"ME\", \"CIVIL\", \"ECEC\", \"EE\"]\n",
    "for name in data:\n",
    "    sql = \"INSERT INTO test (name) VALUES (%s)\"\n",
    "    val = (name,)\n",
    "    mycursor.execute(sql, val)"
   ]
  },
  {
   "cell_type": "code",
   "execution_count": 29,
   "metadata": {},
   "outputs": [
    {
     "name": "stdout",
     "output_type": "stream",
     "text": [
      "('EEE',)\n",
      "('ECE',)\n",
      "('ECEC',)\n",
      "('EE',)\n",
      "('EEE',)\n",
      "('CSE',)\n",
      "('BME',)\n",
      "('ECE',)\n",
      "('MSE',)\n",
      "('ME',)\n",
      "('EE',)\n",
      "('EEE',)\n",
      "('ECE',)\n",
      "('ECEC',)\n",
      "('EE',)\n",
      "('EEE',)\n",
      "('CSE',)\n",
      "('BME',)\n",
      "('ECE',)\n",
      "('MSE',)\n",
      "('URP',)\n",
      "('EEE',)\n",
      "('CSE',)\n",
      "('BME',)\n",
      "('ECE',)\n",
      "('MSE',)\n",
      "('URP',)\n",
      "('CIVIL',)\n",
      "('ECEC',)\n"
     ]
    }
   ],
   "source": [
    "# execute the commands\n",
    "mycursor.execute(\"SELECT * FROM TEST WHERE NAME LIKE 'E%'\")\n",
    "result = mycursor.fetchall()\n",
    "for row in result:\n",
    "  print(row)\n",
    "\n",
    "mycursor.execute(\"SELECT * FROM TEST WHERE NAME LIKE '%E'\")\n",
    "result = mycursor.fetchall()\n",
    "for row in result:\n",
    "  print(row)\n",
    "\n",
    "mycursor.execute(\"SELECT * FROM TEST WHERE NAME LIKE '%E%E%'\")\n",
    "result = mycursor.fetchall()\n",
    "for row in result:\n",
    "  print(row)\n",
    "\n",
    "mycursor.execute(\"SELECT * FROM TEST WHERE NAME LIKE '___'\")\n",
    "result = mycursor.fetchall()\n",
    "for row in result:\n",
    "  print(row)\n",
    "\n",
    "mycursor.execute(\"SELECT * FROM TEST WHERE NAME LIKE '___' or NAME LIKE '____' or NAME LIKE '_____'\")\n",
    "result = mycursor.fetchall()\n",
    "for row in result:\n",
    "  print(row)"
   ]
  },
  {
   "cell_type": "code",
   "execution_count": 31,
   "metadata": {},
   "outputs": [
    {
     "name": "stdout",
     "output_type": "stream",
     "text": [
      "(7, 'CSE', 'EE', 120, 'CSE1101', 'discreate math', 11, Decimal('3.0000'))\n",
      "(7, 'CSE', 'EE', 120, 'CSE3105', 'database systems', 31, Decimal('3.0000'))\n",
      "(7, 'CSE', 'EE', 120, 'CSE1101', 'discreate math', 11, Decimal('3.0000'))\n",
      "(7, 'CSE', 'EE', 120, 'CSE3105', 'database systems', 31, Decimal('3.0000'))\n",
      "(3, 'EEE', 'EE', 120, 'EEE1101', 'Digital Electronics', 11, Decimal('3.0000'))\n",
      "(5, 'ME', 'ME', 120, 'ME3101', 'solid mechanics', 31, Decimal('3.0000'))\n",
      "('CSE', 'discreate math')\n",
      "('CSE', 'database systems')\n",
      "('EEE', 'Digital Electronics')\n",
      "('ME', 'solid mechanics')\n",
      "('CSE', 'discreate math')\n",
      "('CSE', 'database systems')\n",
      "('EEE', 'Digital Electronics')\n",
      "('ME', 'solid mechanics')\n",
      "('CE', None)\n",
      "('ECE', None)\n",
      "('EEE', 'Digital Electronics')\n",
      "('ME', 'solid mechanics')\n",
      "('CSE', 'discreate math')\n",
      "('CSE', 'database systems')\n",
      "('CSE', 'discreate math')\n",
      "('CSE', 'database systems')\n",
      "('EEE', 'Digital Electronics')\n",
      "('ME', 'solid mechanics')\n",
      "('CE', None)\n",
      "('ECE', None)\n",
      "('EEE', 'Digital Electronics')\n",
      "('ME', 'solid mechanics')\n",
      "('CSE', 'database systems')\n",
      "('CSE', 'discreate math')\n"
     ]
    }
   ],
   "source": [
    "# perform join operations\n",
    "mycursor.execute(\"SELECT * FROM dept NATURAL JOIN course WHERE dept_id=7\")\n",
    "result = mycursor.fetchall()\n",
    "for row in result:\n",
    "    print(row)\n",
    "\n",
    "mycursor.execute(\"SELECT * FROM dept NATURAL JOIN course\")\n",
    "result = mycursor.fetchall()\n",
    "for row in result:\n",
    "    print(row)\n",
    "\n",
    "mycursor.execute(\"SELECT dept_name, course_name FROM dept JOIN course USING(dept_id)\")\n",
    "result = mycursor.fetchall()\n",
    "for row in result:\n",
    "    print(row)\n",
    "\n",
    "mycursor.execute(\"SELECT dept_name, course_name FROM dept JOIN course ON dept.dept_id=course.dept_id\")\n",
    "result = mycursor.fetchall()\n",
    "for row in result:\n",
    "    print(row)\n",
    "\n",
    "mycursor.execute(\"SELECT dept_name, course_name FROM dept LEFT OUTER JOIN course USING(dept_id)\")\n",
    "result = mycursor.fetchall()\n",
    "for row in result:\n",
    "    print(row)\n",
    "\n",
    "mycursor.execute(\"SELECT dept_name, course_name FROM dept RIGHT OUTER JOIN course USING(dept_id)\")\n",
    "result = mycursor.fetchall()\n",
    "for row in result:\n",
    "    print(row)\n",
    "\n",
    "mycursor.execute(\"SELECT dept_name, course_name FROM dept LEFT OUTER JOIN course ON dept.dept_id=course.dept_id UNION SELECT dept_name, course_name FROM dept RIGHT OUTER JOIN course ON dept.dept_id=course.dept_id WHERE dept.dept_id IS NULL\")\n",
    "result = mycursor.fetchall()\n",
    "for row in result:\n",
    "    print(row)\n"
   ]
  },
  {
   "cell_type": "code",
   "execution_count": 35,
   "metadata": {},
   "outputs": [],
   "source": [
    "mycursor.execute(\"SHOW CREATE VIEW dept_details\")\n",
    "result = mycursor.fetchone()\n",
    "if result:\n",
    "    mycursor.execute(\"DROP VIEW dept_details\")\n",
    "    mycursor.execute(\"CREATE VIEW dept_details AS SELECT dept_id, dept_name FROM dept\")\n",
    "\n",
    "mycursor.execute(\"SHOW CREATE VIEW CSE_DEPT_COURSE\")\n",
    "result = mycursor.fetchone()\n",
    "if result:\n",
    "    mycursor.execute(\"DROP VIEW CSE_DEPT_COURSE\")\n",
    "    mycursor.execute(\"CREATE VIEW CSE_DEPT_COURSE AS SELECT course_name FROM course WHERE dept_id=(SELECT dept_id FROM dept WHERE dept_name='CSE')\")\n",
    "\n",
    "mycursor.execute(\"SHOW CREATE VIEW custom\")\n",
    "result = mycursor.fetchone()\n",
    "if result:\n",
    "    mycursor.execute(\"DROP VIEW custom\")\n",
    "    mycursor.execute(\"CREATE VIEW custom AS SELECT * FROM dept_details WHERE dept_id>=3\")\n"
   ]
  },
  {
   "cell_type": "code",
   "execution_count": null,
   "metadata": {},
   "outputs": [],
   "source": []
  },
  {
   "cell_type": "code",
   "execution_count": null,
   "metadata": {},
   "outputs": [],
   "source": [
    "db.commit()\n",
    "mycursor.close()\n",
    "db.close()"
   ]
  },
  {
   "cell_type": "code",
   "execution_count": 3,
   "metadata": {},
   "outputs": [],
   "source": []
  },
  {
   "cell_type": "code",
   "execution_count": 4,
   "metadata": {},
   "outputs": [],
   "source": []
  },
  {
   "cell_type": "code",
   "execution_count": null,
   "metadata": {},
   "outputs": [],
   "source": []
  },
  {
   "cell_type": "code",
   "execution_count": null,
   "metadata": {},
   "outputs": [],
   "source": []
  }
 ],
 "metadata": {
  "kernelspec": {
   "display_name": "virtualenv",
   "language": "python",
   "name": "python3"
  },
  "language_info": {
   "codemirror_mode": {
    "name": "ipython",
    "version": 3
   },
   "file_extension": ".py",
   "mimetype": "text/x-python",
   "name": "python",
   "nbconvert_exporter": "python",
   "pygments_lexer": "ipython3",
   "version": "3.9.13"
  },
  "orig_nbformat": 4
 },
 "nbformat": 4,
 "nbformat_minor": 2
}
